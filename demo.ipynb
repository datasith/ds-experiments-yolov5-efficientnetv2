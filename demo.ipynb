{
 "cells": [
  {
   "cell_type": "code",
   "execution_count": 1,
   "id": "eab9fc38-8816-4567-b810-6b9660aaacb7",
   "metadata": {},
   "outputs": [],
   "source": [
    "# YOLOv5 🚀 by Ultralytics, GPL-3.0 license\n",
    "import argparse\n",
    "import os\n",
    "import sys\n",
    "from pathlib import Path\n",
    "\n",
    "import cv2\n",
    "import matplotlib.pyplot as plt\n",
    "import numpy as np\n",
    "import os\n",
    "import sys\n",
    "import torch\n",
    "import torch.backends.cudnn as cudnn\n",
    "import tensorflow as tf\n",
    "\n",
    "ROOT_YOLOV5 = Path('./yolov5')\n",
    "ROOT_EFFICIENTNETV2 = Path('automl/efficientnetv2')\n",
    "\n",
    "if str(ROOT_YOLOV5) not in sys.path and str(ROOT_EFFICIENTNETV2) not in sys.path:\n",
    "    sys.path.insert(0, str(ROOT_YOLOV5))\n",
    "else:\n",
    "    sys.path[0] = str(ROOT_YOLOV5)\n",
    "    \n",
    "from models.common import DetectMultiBackend\n",
    "from utils.datasets import IMG_FORMATS, VID_FORMATS, LoadImages, LoadStreams\n",
    "from utils.general import LOGGER, check_file, check_img_size, check_imshow, check_requirements, colorstr, \\\n",
    "                           increment_path, non_max_suppression, print_args, scale_coords, strip_optimizer, xyxy2xywh\n",
    "from utils.plots import Annotator, colors, save_one_box\n",
    "from utils.torch_utils import select_device, time_sync\n",
    "\n",
    "%matplotlib inline"
   ]
  },
  {
   "cell_type": "code",
   "execution_count": 2,
   "id": "1859c06c-330c-481e-a206-304d6179c95e",
   "metadata": {},
   "outputs": [
    {
     "data": {
      "text/plain": [
       "'/Users/f0z01ld/Work/object-recognition-yolov5-efficientnetv2'"
      ]
     },
     "execution_count": 2,
     "metadata": {},
     "output_type": "execute_result"
    }
   ],
   "source": [
    "os.getcwd()"
   ]
  },
  {
   "cell_type": "code",
   "execution_count": 3,
   "id": "421d911d-baa5-48f6-bd0e-ea45a97aff77",
   "metadata": {},
   "outputs": [
    {
     "data": {
      "text/plain": [
       "<module 'utils' from '/Users/f0z01ld/Work/object-recognition-yolov5-efficientnetv2/yolov5/utils/__init__.py'>"
      ]
     },
     "execution_count": 3,
     "metadata": {},
     "output_type": "execute_result"
    }
   ],
   "source": [
    "sys.modules['utils']"
   ]
  },
  {
   "cell_type": "code",
   "execution_count": 4,
   "id": "7e52f316-6cd8-4115-a4df-3350daf7601b",
   "metadata": {},
   "outputs": [],
   "source": [
    "@torch.no_grad()\n",
    "def run(\n",
    "        # weights=ROOT / 'yolov5s.pt',  # model.pt path(s) \n",
    "        weights        = 'weights/yolov5/yolov5s.pt',\n",
    "        source         = ROOT_YOLOV5 / 'data/images',  # file/dir/URL/glob, 0 for webcam, datasets/SKU110K_fixed/images/test\n",
    "        data           = ROOT_YOLOV5 / 'data/coco128.yaml',  # dataset.yaml path\n",
    "        imgsz          = [640, 640],  # inference size (height, width)\n",
    "        # conf_thres     = 0.25,  # confidence threshold\n",
    "        conf_thres     = 0.1,  # confidence threshold    \n",
    "        iou_thres      = 0.45,  # NMS IOU threshold\n",
    "        max_det        = 1000,  # maximum detections per image\n",
    "        device         = '',  # cuda device, i.e. 0 or 0,1,2,3 or cpu\n",
    "        view_img       = True,  # show results\n",
    "        save_txt       = True,  # save results to *.txt\n",
    "        save_conf      = True,  # save confidences in --save-txt labels\n",
    "        save_crop      = True,  # save cropped prediction boxes\n",
    "        nosave         = False,  # do not save images/videos\n",
    "        classes        = None,  # filter by class: --class 0, or --class 0 2 3\n",
    "        agnostic_nms   = False,  # class-agnostic NMS\n",
    "        augment        = False,  # augmented inference\n",
    "        visualize      = False,  # visualize features\n",
    "        update         = False,  # update all models\n",
    "        project        = 'runs/detect',  # save results to project/name\n",
    "        name           = 'exp',  # save results to project/name\n",
    "        # exist_ok=False,  # existing project/name ok, do not increment\n",
    "        exist_ok       = True,\n",
    "        line_thickness = 3,  # bounding box thickness (pixels)\n",
    "        hide_labels    = False,  # hide labels\n",
    "        hide_conf      = False,  # hide confidences\n",
    "        half           = False,  # use FP16 half-precision inference\n",
    "        dnn            = False,  # use OpenCV DNN for ONNX inference\n",
    "    ):\n",
    "    source = str(source)\n",
    "    save_img = not nosave and not source.endswith('.txt')  # save inference images\n",
    "    is_file = Path(source).suffix[1:] in (IMG_FORMATS + VID_FORMATS)\n",
    "\n",
    "    # Directories\n",
    "    save_dir = increment_path(Path(project) / name, exist_ok=exist_ok)  # increment run\n",
    "    (save_dir / 'labels' if save_txt else save_dir).mkdir(parents=True, exist_ok=True)  # make dir\n",
    "\n",
    "    # Load model\n",
    "    device = select_device(device)\n",
    "    model = DetectMultiBackend(weights, device=device, dnn=dnn, data=data, fp16=half)\n",
    "    stride, names, pt = model.stride, model.names, model.pt\n",
    "    imgsz = check_img_size(imgsz, s=stride)  # check image size\n",
    "\n",
    "    dataset = LoadImages(source, img_size=imgsz, stride=stride, auto=pt)\n",
    "    \n",
    "    bs = 1  # batch_size\n",
    "    vid_path, vid_writer = [None] * bs, [None] * bs\n",
    "\n",
    "    # Run inference\n",
    "    model.warmup(imgsz=(1 if pt else bs, 3, *imgsz))  # warmup\n",
    "    dt, seen = [0.0, 0.0, 0.0], 0\n",
    "    for path, im, im0s, vid_cap, s in dataset:\n",
    "        t1 = time_sync()\n",
    "        im = torch.from_numpy(im).to(device)\n",
    "        im = im.half() if model.fp16 else im.float()  # uint8 to fp16/32\n",
    "        im /= 255  # 0 - 255 to 0.0 - 1.0\n",
    "        if len(im.shape) == 3:\n",
    "            im = im[None]  # expand for batch dim\n",
    "        t2 = time_sync()\n",
    "        dt[0] += t2 - t1\n",
    "\n",
    "        # Inference\n",
    "        visualize = increment_path(save_dir / Path(path).stem, mkdir=True) if visualize else False\n",
    "        pred = model(im, augment=augment, visualize=visualize)\n",
    "        t3 = time_sync()\n",
    "        dt[1] += t3 - t2\n",
    "\n",
    "        # NMS\n",
    "        pred = non_max_suppression(pred, conf_thres, iou_thres, classes, agnostic_nms, max_det=max_det)\n",
    "        \n",
    "        dt[2] += time_sync() - t3\n",
    "\n",
    "        # Second-stage classifier (optional)\n",
    "        # pred = utils.general.apply_classifier(pred, classifier_model, im, im0s)\n",
    "\n",
    "        # Process predictions\n",
    "        for i, det in enumerate(pred):  # per image\n",
    "            seen += 1\n",
    "            p, im0, frame = path, im0s.copy(), getattr(dataset, 'frame', 0)\n",
    "\n",
    "            p = Path(p)  # to Path\n",
    "            save_path = str(save_dir / p.name)  # im.jpg\n",
    "            txt_path = str(save_dir / 'labels' / p.stem) + ('' if dataset.mode == 'image' else f'_{frame}')  # im.txt\n",
    "            s += '%gx%g ' % im.shape[2:]  # print string\n",
    "            gn = torch.tensor(im0.shape)[[1, 0, 1, 0]]  # normalization gain whwh\n",
    "            imc = im0.copy() if save_crop else im0  # for save_crop\n",
    "            annotator = Annotator(im0, line_width=line_thickness, example=str(names))\n",
    "            if len(det):\n",
    "                # Rescale boxes from img_size to im0 size\n",
    "                det[:, :4] = scale_coords(im.shape[2:], det[:, :4], im0.shape).round()\n",
    "\n",
    "                # Print results\n",
    "                for c in det[:, -1].unique():\n",
    "                    n = (det[:, -1] == c).sum()  # detections per class\n",
    "                    s += f\"{n} {names[int(c)]}{'s' * (n > 1)}, \"  # add to string\n",
    "\n",
    "                # Write results\n",
    "                for *xyxy, conf, cls in reversed(det):\n",
    "                                \n",
    "                    if save_txt:  # Write to file\n",
    "                        xywh = (xyxy2xywh(torch.tensor(xyxy).view(1, 4)) / gn).view(-1).tolist()  # normalized xywh\n",
    "                        line = (cls, *xywh, conf) if save_conf else (cls, *xywh)  # label format\n",
    "                        with open(txt_path + '.txt', 'a') as f:\n",
    "                            f.write(('%g ' * len(line)).rstrip() % line + '\\n')\n",
    "\n",
    "                    if save_img or save_crop or view_img:  # Add bbox to image\n",
    "                        c = int(cls)  # integer class\n",
    "                        label = None if hide_labels else (names[c] if hide_conf else f'{names[c]} {conf:.2f}')\n",
    "                        annotator.box_label(xyxy, label, color=colors(c, True))\n",
    "                        if save_crop:\n",
    "                            save_one_box(xyxy, imc, file=save_dir / 'crops' / names[c] / f'{p.stem}_{names[c]}.jpg', BGR=True)\n",
    "            \n",
    "                    # print(xyxy, imc.shape)\n",
    "                    x1, y1, x2, y2 = xyxy\n",
    "                    x1 = int(x1)\n",
    "                    y1 = int(y1)\n",
    "                    x2 = int(x2)\n",
    "                    y2 = int(y2)\n",
    "                    im0_crop = im0[y1:y2, x1:x2, :]\n",
    "                    \n",
    "                    fig = plt.figure(facecolor='w', edgecolor='k', frameon=False)\n",
    "                    ax = fig.add_subplot(111)\n",
    "                    plt.imshow(im0_crop)\n",
    "                    _ = ax.set_aspect('equal')\n",
    "                    ax.set_axis_off()\n",
    "                    plt.show()\n",
    "                    \n",
    "                    return im0_crop\n",
    "            \n",
    "            # Stream results\n",
    "            im0 = annotator.result()\n",
    "            if view_img:\n",
    "                cv2.imshow(str(p), im0)\n",
    "                cv2.waitKey(1)  # 1 millisecond\n",
    "\n",
    "            # Save results (image with detections)\n",
    "            if save_img:\n",
    "                if dataset.mode == 'image':\n",
    "                    cv2.imwrite(save_path, im0)\n",
    "\n",
    "        # Print time (inference-only)\n",
    "        LOGGER.info(f'{s}Done. ({t3 - t2:.3f}s)')\n",
    "        break\n",
    "    \n",
    "    # Print results\n",
    "    t = tuple(x / seen * 1E3 for x in dt)  # speeds per image\n",
    "    LOGGER.info(f'Speed: %.1fms pre-process, %.1fms inference, %.1fms NMS per image at shape {(1, 3, *imgsz)}' % t)\n",
    "    if save_txt or save_img:\n",
    "        s = f\"\\n{len(list(save_dir.glob('labels/*.txt')))} labels saved to {save_dir / 'labels'}\" if save_txt else ''\n",
    "        LOGGER.info(f\"Results saved to {colorstr('bold', save_dir)}{s}\")\n",
    "    if update:\n",
    "        strip_optimizer(weights)  # update model (to fix SourceChangeWarning)   "
   ]
  },
  {
   "cell_type": "code",
   "execution_count": 5,
   "id": "219d9802-08ad-4bff-b59e-226190464e6b",
   "metadata": {},
   "outputs": [
    {
     "name": "stderr",
     "output_type": "stream",
     "text": [
      "YOLOv5 🚀 v6.1-32-gc13d4ce torch 1.8.0 CPU\n",
      "\n",
      "Fusing layers... \n",
      "Model Summary: 213 layers, 7225885 parameters, 0 gradients\n"
     ]
    },
    {
     "data": {
      "image/png": "[encoded data removed]",
      "text/plain": [
       "<Figure size 432x288 with 1 Axes>"
      ]
     },
     "metadata": {},
     "output_type": "display_data"
    }
   ],
   "source": [
    "check_requirements(exclude=('tensorboard', 'thop'))\n",
    "im0_crop = run()"
   ]
  },
  {
   "cell_type": "code",
   "execution_count": 6,
   "id": "ee1166e3-6df5-4f61-80ce-8ddc463e3f7c",
   "metadata": {},
   "outputs": [],
   "source": [
    "if str(ROOT_EFFICIENTNETV2) not in sys.path:\n",
    "    sys.path[0] = str(ROOT_EFFICIENTNETV2)"
   ]
  },
  {
   "cell_type": "code",
   "execution_count": 7,
   "id": "a9efa673-c485-4458-a56e-6f388ed2f7d1",
   "metadata": {},
   "outputs": [],
   "source": [
    "del sys.modules['utils']\n",
    "del IMG_FORMATS, VID_FORMATS, LoadImages, LoadStreams\n",
    "del (LOGGER, check_file, check_img_size, check_imshow, check_requirements, colorstr,\n",
    "                           increment_path, non_max_suppression, print_args, scale_coords, strip_optimizer, xyxy2xywh)\n",
    "del Annotator, colors, save_one_box\n",
    "# del select_device, time_sync"
   ]
  },
  {
   "cell_type": "code",
   "execution_count": 8,
   "id": "c1047c3f-1401-4b29-bb85-6f24e1068f3e",
   "metadata": {},
   "outputs": [
    {
     "data": {
      "text/plain": [
       "<module 'utils' from '/Users/f0z01ld/Work/object-recognition-yolov5-efficientnetv2/automl/efficientnetv2/utils.py'>"
      ]
     },
     "execution_count": 8,
     "metadata": {},
     "output_type": "execute_result"
    }
   ],
   "source": [
    "import utils\n",
    "sys.modules['utils']"
   ]
  },
  {
   "cell_type": "code",
   "execution_count": 16,
   "id": "3e4bfdba-c431-4b4c-a549-93b4744569a7",
   "metadata": {},
   "outputs": [],
   "source": [
    "from pathlib import Path\n",
    "import sys\n",
    "import os\n",
    "import tensorflow as tf\n",
    "\n",
    "ROOT_EFFICIENTNETV2 = Path('automl/efficientnetv2')\n",
    "if str(ROOT_EFFICIENTNETV2) not in sys.path:\n",
    "    # sys.path.append(str(ROOT_EFFICIENTNETV2))  # add ROOT to PATH\n",
    "    sys.path.insert(0, str(ROOT_EFFICIENTNETV2))\n",
    "ROOT_EFFICIENTNETV2 = Path(os.path.relpath(ROOT_EFFICIENTNETV2, Path.cwd()))  # relative\n",
    "\n",
    "MODEL = 'efficientnetv2-b0'\n",
    "CHKPTS_DIR  = Path('chkpts')\n",
    "LABELS_PATH = Path('labels/labels_map.txt')\n",
    "\n",
    "MODELS_URL = f'https://storage.googleapis.com/cloud-tpu-checkpoints/efficientnet/v2/{MODEL}.tgz'\n",
    "LABELS_URL = f'https://storage.googleapis.com/cloud-tpu-checkpoints/efficientnet/eval_data/labels_map.txt'\n",
    "\n",
    "# Build model\n",
    "import effnetv2_model\n",
    "# tf.keras.backend.clear_session()\n",
    "model = effnetv2_model.EffNetV2Model(model_name=MODEL)"
   ]
  },
  {
   "cell_type": "code",
   "execution_count": 10,
   "id": "e05d884c-6262-46f6-9a7c-1459d804a178",
   "metadata": {},
   "outputs": [],
   "source": [
    "# !mkdir -p chkpts images labels"
   ]
  },
  {
   "cell_type": "code",
   "execution_count": 11,
   "id": "a9336f01-daeb-44a3-b9d0-257d3e18a996",
   "metadata": {},
   "outputs": [],
   "source": [
    "# Download model\n",
    "# !wget $MODELS_URL -P $CHKPTS_DIR\n",
    "# !tar -xvf {CHKPTS_DIR}/{MODEL}.tgz -C {CHKPTS_DIR}\n",
    "\n",
    "# Download label map file\n",
    "# !wget $LABELS_URL -O $LABELS_PATH"
   ]
  },
  {
   "cell_type": "code",
   "execution_count": 12,
   "id": "5d695332-cc38-4dd5-8a26-4137520cbf17",
   "metadata": {},
   "outputs": [
    {
     "data": {
      "text/plain": [
       "'chkpts/efficientnetv2-b0/model'"
      ]
     },
     "execution_count": 12,
     "metadata": {},
     "output_type": "execute_result"
    }
   ],
   "source": [
    "if tf.io.gfile.isdir( CHKPTS_DIR / MODEL ):\n",
    "    chkpts_path = tf.train.latest_checkpoint(CHKPTS_DIR / MODEL)\n",
    "chkpts_path"
   ]
  },
  {
   "cell_type": "code",
   "execution_count": 22,
   "id": "cbcd4b1f-7e16-4df9-8944-dfc04acdd176",
   "metadata": {},
   "outputs": [
    {
     "name": "stderr",
     "output_type": "stream",
     "text": [
      "Clipping input data to the valid range for imshow with RGB data ([0..1] for floats or [0..255] for integers).\n"
     ]
    },
    {
     "name": "stdout",
     "output_type": "stream",
     "text": [
      "top 1 (  1.3%):  slide rule, slipstick \n",
      "top 2 (  0.9%):  medicine chest, medicine cabinet \n",
      "top 3 (  0.8%):  picket fence, paling \n",
      "top 4 (  0.8%):  photocopier \n",
      "top 5 (  0.7%):  traffic light, traffic signal, stoplight \n"
     ]
    },
    {
     "data": {
      "image/png": "[encoded data removed]",
      "text/plain": [
       "<Figure size 432x288 with 1 Axes>"
      ]
     },
     "metadata": {},
     "output_type": "display_data"
    }
   ],
   "source": [
    "# Build model\n",
    "from absl import logging\n",
    "logging.set_verbosity(logging.ERROR)\n",
    "tf.keras.backend.clear_session()\n",
    "model = effnetv2_model.EffNetV2Model(model_name=MODEL)\n",
    "_ = model(tf.ones([1, 224, 224, 3]), training=False)\n",
    "_ = model.load_weights(chkpts_path)\n",
    "cfg = model.cfg\n",
    "\n",
    "# Pre-process image\n",
    "# mean_rgb = [0.485 * 255, 0.456 * 255, 0.406 * 255]\n",
    "# stddev_rgb = [0.229 * 255, 0.224 * 255, 0.225 * 255]\n",
    "# img_opencv = im0_crop.copy() - mean_rgb\n",
    "# img_opencv = img_opencv / stddev_rgb\n",
    "img_opencv = im0_crop.copy() - 128\n",
    "img_opencv = img_opencv / 128\n",
    "img_opencv = np.expand_dims(img_opencv.astype(float), axis=0)\n",
    "logits = model(img_opencv, False)\n",
    "\n",
    "# Output classes and probability\n",
    "pred = tf.keras.layers.Softmax()(logits)\n",
    "# Output classes and probability\n",
    "pred = tf.keras.layers.Softmax()(logits)\n",
    "idx = tf.argsort(logits[0])[::-1][:5].numpy()\n",
    "import ast\n",
    "classes = ast.literal_eval(open(LABELS_PATH, \"r\").read())\n",
    "for i, id in enumerate(idx):\n",
    "    print(f'top {i+1} ({pred[0][id]*100:5.1f}%):  {classes[id]} ')\n",
    "\n",
    "fig = plt.figure(facecolor='w', edgecolor='k', frameon=False)\n",
    "ax = fig.add_subplot(111)\n",
    "plt.imshow(img_opencv[0])\n",
    "_ = ax.set_aspect('equal')\n",
    "ax.set_axis_off()\n",
    "# plt.show()"
   ]
  },
  {
   "cell_type": "code",
   "execution_count": null,
   "id": "0d4ca3f8-26f9-46b2-bdf1-2d503661e1d8",
   "metadata": {},
   "outputs": [],
   "source": []
  }
 ],
 "metadata": {
  "kernelspec": {
   "display_name": "Python 3 (ipykernel)",
   "language": "python",
   "name": "python3"
  },
  "language_info": {
   "codemirror_mode": {
    "name": "ipython",
    "version": 3
   },
   "file_extension": ".py",
   "mimetype": "text/x-python",
   "name": "python",
   "nbconvert_exporter": "python",
   "pygments_lexer": "ipython3",
   "version": "3.8.12"
  }
 },
 "nbformat": 4,
 "nbformat_minor": 5
}
